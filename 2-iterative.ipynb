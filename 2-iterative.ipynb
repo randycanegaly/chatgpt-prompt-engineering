{
 "cells": [
  {
   "cell_type": "markdown",
   "metadata": {
    "id": "L9DtiP-0GIcj"
   },
   "source": [
    "# Iterative Prompt Develelopment\n",
    "In this lesson, you'll iteratively analyze and refine your prompts to generate marketing copy from a product fact sheet.\n",
    "\n",
    "## Setup"
   ]
  },
  {
   "cell_type": "code",
   "execution_count": 15,
   "metadata": {
    "id": "GqmnSpjDGL83"
   },
   "outputs": [],
   "source": [
    "import openai\n",
    "import os\n",
    "\n",
    "from dotenv import load_dotenv, find_dotenv\n",
    "_ = load_dotenv(find_dotenv()) # read local .env file\n",
    "\n",
    "openai.api_key  = os.getenv('OPENAI_API_KEY')"
   ]
  },
  {
   "cell_type": "code",
   "execution_count": 16,
   "metadata": {
    "id": "aP3PrqyzGOgc"
   },
   "outputs": [],
   "source": [
    "def get_completion(prompt, model=\"gpt-3.5-turbo\"):\n",
    "    messages = [{\"role\": \"user\", \"content\": prompt}]\n",
    "    response = openai.ChatCompletion.create(\n",
    "        model=model,\n",
    "        messages=messages,\n",
    "        temperature=0, # this is the degree of randomness of the model's output\n",
    "    )\n",
    "    return response.choices[0].message[\"content\"]"
   ]
  },
  {
   "cell_type": "markdown",
   "metadata": {
    "id": "japrg7mAGR2g"
   },
   "source": [
    "## Generate a marketing product description from a product fact sheet"
   ]
  },
  {
   "cell_type": "code",
   "execution_count": 17,
   "metadata": {
    "id": "463Hski3GUF_"
   },
   "outputs": [],
   "source": [
    "fact_sheet_chair = \"\"\"\n",
    "OVERVIEW\n",
    "- Part of a beautiful family of mid-century inspired office furniture, \n",
    "including filing cabinets, desks, bookcases, meeting tables, and more.\n",
    "- Several options of shell color and base finishes.\n",
    "- Available with plastic back and front upholstery (SWC-100) \n",
    "or full upholstery (SWC-110) in 10 fabric and 6 leather options.\n",
    "- Base finish options are: stainless steel, matte black, \n",
    "gloss white, or chrome.\n",
    "- Chair is available with or without armrests.\n",
    "- Suitable for home or business settings.\n",
    "- Qualified for contract use.\n",
    "\n",
    "CONSTRUCTION\n",
    "- 5-wheel plastic coated aluminum base.\n",
    "- Pneumatic chair adjust for easy raise/lower action.\n",
    "\n",
    "DIMENSIONS\n",
    "- WIDTH 53 CM | 20.87”\n",
    "- DEPTH 51 CM | 20.08”\n",
    "- HEIGHT 80 CM | 31.50”\n",
    "- SEAT HEIGHT 44 CM | 17.32”\n",
    "- SEAT DEPTH 41 CM | 16.14”\n",
    "\n",
    "OPTIONS\n",
    "- Soft or hard-floor caster options.\n",
    "- Two choices of seat foam densities: \n",
    " medium (1.8 lb/ft3) or high (2.8 lb/ft3)\n",
    "- Armless or 8 position PU armrests \n",
    "\n",
    "MATERIALS\n",
    "SHELL BASE GLIDER\n",
    "- Cast Aluminum with modified nylon PA6/PA66 coating.\n",
    "- Shell thickness: 10 mm.\n",
    "SEAT\n",
    "- HD36 foam\n",
    "\n",
    "COUNTRY OF ORIGIN\n",
    "- Italy\n",
    "\"\"\""
   ]
  },
  {
   "cell_type": "code",
   "execution_count": 18,
   "metadata": {
    "id": "1GS_smYoGXPV"
   },
   "outputs": [
    {
     "name": "stdout",
     "output_type": "stream",
     "text": [
      "Introducing our stunning mid-century inspired office chair, the perfect addition to any home or business setting. This chair is part of a beautiful family of office furniture, including filing cabinets, desks, bookcases, meeting tables, and more, all designed with a timeless mid-century aesthetic.\n",
      "\n",
      "One of the standout features of this chair is the variety of customization options available. You can choose from several shell colors and base finishes to perfectly match your existing decor. The chair is available with either plastic back and front upholstery or full upholstery in a range of 10 fabric and 6 leather options, allowing you to create a look that is uniquely yours.\n",
      "\n",
      "The chair is also available with or without armrests, giving you the flexibility to choose the option that best suits your needs. The base finish options include stainless steel, matte black, gloss white, or chrome, ensuring that you can find the perfect match for your space.\n",
      "\n",
      "In terms of construction, this chair is built to last. It features a 5-wheel plastic coated aluminum base, providing stability and mobility. The pneumatic chair adjust allows for easy raise and lower action, ensuring optimal comfort throughout the day.\n",
      "\n",
      "When it comes to dimensions, this chair is designed with both style and comfort in mind. With a width of 53 cm (20.87\"), depth of 51 cm (20.08\"), and height of 80 cm (31.50\"), it offers ample space without overwhelming your space. The seat height is 44 cm (17.32\") and the seat depth is 41 cm (16.14\"), providing a comfortable seating experience for users of all heights.\n",
      "\n",
      "We understand that every space is unique, which is why we offer a range of options to further customize your chair. You can choose between soft or hard-floor caster options, ensuring that your chair glides smoothly across any surface. Additionally, you have the choice between two seat foam densities: medium (1.8 lb/ft3) or high (2.8 lb/ft3), allowing you to select the level of support that suits your preferences. The chair is also available with armless design or 8 position PU armrests, providing additional comfort and versatility.\n",
      "\n",
      "When it comes to materials, this chair is crafted with the utmost attention to quality. The shell base glider is made from cast aluminum with a modified nylon PA6/PA66 coating, ensuring durability and longevity. The shell thickness is 10 mm, providing a sturdy and reliable structure. The seat is made from HD36 foam, offering a comfortable and supportive seating experience.\n",
      "\n",
      "Finally, this chair is proudly made in Italy, known for its exceptional craftsmanship and design. With its combination of style, functionality, and customization options, this mid-century inspired office chair is the perfect choice for those seeking a timeless and elegant addition to their workspace.\n",
      "\n",
      "Please note that this chair is qualified for contract use, making it suitable for a wide range of professional settings. Upgrade your office or home with this exceptional piece of furniture and experience the perfect blend of style and comfort.\n"
     ]
    }
   ],
   "source": [
    "prompt = f\"\"\"\n",
    "Your task is to help a marketing team create a \n",
    "description for a retail website of a product based \n",
    "on a technical fact sheet.\n",
    "\n",
    "Write a product description based on the information \n",
    "provided in the technical specifications delimited by \n",
    "triple backticks.\n",
    "\n",
    "Technical specifications: ```{fact_sheet_chair}```\n",
    "\"\"\"\n",
    "response = get_completion(prompt)\n",
    "print(response)\n"
   ]
  },
  {
   "cell_type": "markdown",
   "metadata": {
    "id": "uQLhg4B5GZvZ"
   },
   "source": [
    "## Issue 1: The text is too long \n",
    "- Limit the number of words/sentences/characters."
   ]
  },
  {
   "cell_type": "code",
   "execution_count": 19,
   "metadata": {
    "id": "ttK1xlwZGeBp"
   },
   "outputs": [
    {
     "name": "stdout",
     "output_type": "stream",
     "text": [
      "Introducing our mid-century inspired office chair, part of a stunning furniture collection. With various color and finish options, choose between plastic or full upholstery in fabric or leather. The chair features a durable aluminum base with 5 wheels and pneumatic height adjustment. Perfect for home or business use. Made in Italy.\n"
     ]
    }
   ],
   "source": [
    "prompt = f\"\"\"\n",
    "Your task is to help a marketing team create a \n",
    "description for a retail website of a product based \n",
    "on a technical fact sheet.\n",
    "\n",
    "Write a product description based on the information \n",
    "provided in the technical specifications delimited by \n",
    "triple backticks.\n",
    "\n",
    "Use at most 50 words.\n",
    "\n",
    "Technical specifications: ```{fact_sheet_chair}```\n",
    "\"\"\"\n",
    "response = get_completion(prompt)\n",
    "print(response)\n"
   ]
  },
  {
   "cell_type": "code",
   "execution_count": 20,
   "metadata": {
    "id": "wfBCEY7WGgKP"
   },
   "outputs": [
    {
     "data": {
      "text/plain": [
       "51"
      ]
     },
     "execution_count": 20,
     "metadata": {},
     "output_type": "execute_result"
    }
   ],
   "source": [
    "len(response.split(\" \"))"
   ]
  },
  {
   "cell_type": "markdown",
   "metadata": {
    "id": "08PaEimyGibD"
   },
   "source": [
    "## Issue 2. Text focuses on the wrong details\n",
    "- Ask it to focus on the aspects that are relevant to the intended audience."
   ]
  },
  {
   "cell_type": "code",
   "execution_count": 21,
   "metadata": {
    "id": "C3zpMAMmGkiv"
   },
   "outputs": [
    {
     "name": "stdout",
     "output_type": "stream",
     "text": [
      "Introducing our mid-century inspired office chair, part of a beautiful furniture collection. With various shell colors and base finishes, it offers versatility for any setting. Choose between plastic or full upholstery in a range of fabric and leather options. The chair features a durable aluminum base and pneumatic chair adjustment for easy height customization. Made in Italy.\n"
     ]
    }
   ],
   "source": [
    "prompt = f\"\"\"\n",
    "Your task is to help a marketing team create a \n",
    "description for a retail website of a product based \n",
    "on a technical fact sheet.\n",
    "\n",
    "Write a product description based on the information \n",
    "provided in the technical specifications delimited by \n",
    "triple backticks.\n",
    "\n",
    "The description is intended for furniture retailers, \n",
    "so should be technical in nature and focus on the \n",
    "materials the product is constructed from.\n",
    "\n",
    "Use at most 50 words.\n",
    "\n",
    "Technical specifications: ```{fact_sheet_chair}```\n",
    "\"\"\"\n",
    "response = get_completion(prompt)\n",
    "print(response)"
   ]
  },
  {
   "cell_type": "code",
   "execution_count": 22,
   "metadata": {
    "id": "88bNVNwJGsiT"
   },
   "outputs": [
    {
     "name": "stdout",
     "output_type": "stream",
     "text": [
      "Introducing our mid-century inspired office chair, part of a beautiful family of furniture. With various shell colors and base finishes, this chair offers versatility and style. Choose between plastic or full upholstery in a range of fabric and leather options. The chair features a 5-wheel plastic coated aluminum base and a pneumatic chair adjust for easy height adjustment. Available with or without armrests, this chair is suitable for both home and business settings. Made with high-quality materials, including a cast aluminum shell and HD36 foam seat, this chair is built to last. Product ID: SWC-100, SWC-110.\n"
     ]
    }
   ],
   "source": [
    "prompt = f\"\"\"\n",
    "Your task is to help a marketing team create a \n",
    "description for a retail website of a product based \n",
    "on a technical fact sheet.\n",
    "\n",
    "Write a product description based on the information \n",
    "provided in the technical specifications delimited by \n",
    "triple backticks.\n",
    "\n",
    "The description is intended for furniture retailers, \n",
    "so should be technical in nature and focus on the \n",
    "materials the product is constructed from.\n",
    "\n",
    "At the end of the description, include every 7-character \n",
    "Product ID in the technical specification.\n",
    "\n",
    "Use at most 50 words.\n",
    "\n",
    "Technical specifications: ```{fact_sheet_chair}```\n",
    "\"\"\"\n",
    "response = get_completion(prompt)\n",
    "print(response)"
   ]
  },
  {
   "cell_type": "markdown",
   "metadata": {
    "id": "zm1claQoGvGL"
   },
   "source": [
    "## Issue 3. Description needs a table of dimensions\n",
    "- Ask it to extract information and organize it in a table."
   ]
  },
  {
   "cell_type": "code",
   "execution_count": 23,
   "metadata": {
    "id": "0t88AoQNGx0H"
   },
   "outputs": [
    {
     "name": "stdout",
     "output_type": "stream",
     "text": [
      "<div>\n",
      "  <h2>Product Description</h2>\n",
      "  <p>\n",
      "    Introducing our latest addition to our mid-century inspired office furniture collection - the SWC Chair. This chair is part of a beautiful family of furniture that includes filing cabinets, desks, bookcases, meeting tables, and more. With its sleek design and customizable options, the SWC Chair is the perfect choice for any home or business setting.\n",
      "  </p>\n",
      "  <p>\n",
      "    The SWC Chair offers several options for customization. You can choose from a variety of shell colors and base finishes to match your existing decor. The chair is available with plastic back and front upholstery or full upholstery in a range of fabric and leather options. The base finish options include stainless steel, matte black, gloss white, or chrome. You can also choose whether to have armrests or not, depending on your preference.\n",
      "  </p>\n",
      "  <p>\n",
      "    The construction of the SWC Chair is top-notch. It features a 5-wheel plastic coated aluminum base, ensuring stability and durability. The chair also has a pneumatic adjuster, allowing for easy raise and lower action. This makes it convenient for users to find their desired height and maintain proper posture throughout the day.\n",
      "  </p>\n",
      "  <p>\n",
      "    The SWC Chair is designed with comfort in mind. The seat is made with HD36 foam, providing a plush and supportive cushioning experience. You can also choose between soft or hard-floor caster options, depending on the type of flooring in your space. Additionally, there are two choices of seat foam densities available: medium (1.8 lb/ft3) or high (2.8 lb/ft3). This allows you to customize the level of firmness to suit your preferences.\n",
      "  </p>\n",
      "  <p>\n",
      "    The SWC Chair is not only stylish and comfortable, but it is also built to last. The shell base glider is made of cast aluminum with a modified nylon PA6/PA66 coating, ensuring strength and durability. The shell thickness is 10 mm, providing stability and support. With its high-quality materials and construction, the SWC Chair is qualified for contract use, making it suitable for commercial settings as well.\n",
      "  </p>\n",
      "  <p>\n",
      "    The SWC Chair is proudly made in Italy, known for its craftsmanship and attention to detail. With its timeless design and superior quality, this chair is sure to enhance any space it is placed in.\n",
      "  </p>\n",
      "  <h2>Product Dimensions</h2>\n",
      "  <table>\n",
      "    <tr>\n",
      "      <th>Dimension</th>\n",
      "      <th>Measurement (inches)</th>\n",
      "    </tr>\n",
      "    <tr>\n",
      "      <td>Width</td>\n",
      "      <td>20.87\"</td>\n",
      "    </tr>\n",
      "    <tr>\n",
      "      <td>Depth</td>\n",
      "      <td>20.08\"</td>\n",
      "    </tr>\n",
      "    <tr>\n",
      "      <td>Height</td>\n",
      "      <td>31.50\"</td>\n",
      "    </tr>\n",
      "    <tr>\n",
      "      <td>Seat Height</td>\n",
      "      <td>17.32\"</td>\n",
      "    </tr>\n",
      "    <tr>\n",
      "      <td>Seat Depth</td>\n",
      "      <td>16.14\"</td>\n",
      "    </tr>\n",
      "  </table>\n",
      "</div>\n",
      "\n",
      "Product IDs: SWC-100, SWC-110\n"
     ]
    }
   ],
   "source": [
    "prompt = f\"\"\"\n",
    "Your task is to help a marketing team create a \n",
    "description for a retail website of a product based \n",
    "on a technical fact sheet.\n",
    "\n",
    "Write a product description based on the information \n",
    "provided in the technical specifications delimited by \n",
    "triple backticks.\n",
    "\n",
    "The description is intended for furniture retailers, \n",
    "so should be technical in nature and focus on the \n",
    "materials the product is constructed from.\n",
    "\n",
    "At the end of the description, include every 7-character \n",
    "Product ID in the technical specification.\n",
    "\n",
    "After the description, include a table that gives the \n",
    "product's dimensions. The table should have two columns.\n",
    "In the first column include the name of the dimension. \n",
    "In the second column include the measurements in inches only.\n",
    "\n",
    "Give the table the title 'Product Dimensions'.\n",
    "\n",
    "Format everything as HTML that can be used in a website. \n",
    "Place the description in a <div> element.\n",
    "\n",
    "Technical specifications: ```{fact_sheet_chair}```\n",
    "\"\"\"\n",
    "\n",
    "response = get_completion(prompt)\n",
    "print(response)"
   ]
  },
  {
   "cell_type": "markdown",
   "metadata": {
    "id": "Msdd_7s2G02l"
   },
   "source": [
    "## Load Python libraries to view HTML"
   ]
  },
  {
   "cell_type": "code",
   "execution_count": 24,
   "metadata": {
    "id": "as0ohsSAG4tQ"
   },
   "outputs": [],
   "source": [
    "from IPython.display import display, HTML"
   ]
  },
  {
   "cell_type": "code",
   "execution_count": 25,
   "metadata": {
    "id": "Dl4E2C38G6yj"
   },
   "outputs": [
    {
     "data": {
      "text/html": [
       "<div>\n",
       "  <h2>Product Description</h2>\n",
       "  <p>\n",
       "    Introducing our latest addition to our mid-century inspired office furniture collection - the SWC Chair. This chair is part of a beautiful family of furniture that includes filing cabinets, desks, bookcases, meeting tables, and more. With its sleek design and customizable options, the SWC Chair is the perfect choice for any home or business setting.\n",
       "  </p>\n",
       "  <p>\n",
       "    The SWC Chair offers several options for customization. You can choose from a variety of shell colors and base finishes to match your existing decor. The chair is available with plastic back and front upholstery or full upholstery in a range of fabric and leather options. The base finish options include stainless steel, matte black, gloss white, or chrome. You can also choose whether to have armrests or not, depending on your preference.\n",
       "  </p>\n",
       "  <p>\n",
       "    The construction of the SWC Chair is top-notch. It features a 5-wheel plastic coated aluminum base, ensuring stability and durability. The chair also has a pneumatic adjuster, allowing for easy raise and lower action. This makes it convenient for users to find their desired height and maintain proper posture throughout the day.\n",
       "  </p>\n",
       "  <p>\n",
       "    The SWC Chair is designed with comfort in mind. The seat is made with HD36 foam, providing a plush and supportive cushioning experience. You can also choose between soft or hard-floor caster options, depending on the type of flooring in your space. Additionally, there are two choices of seat foam densities available: medium (1.8 lb/ft3) or high (2.8 lb/ft3). This allows you to customize the level of firmness to suit your preferences.\n",
       "  </p>\n",
       "  <p>\n",
       "    The SWC Chair is not only stylish and comfortable, but it is also built to last. The shell base glider is made of cast aluminum with a modified nylon PA6/PA66 coating, ensuring strength and durability. The shell thickness is 10 mm, providing stability and support. With its high-quality materials and construction, the SWC Chair is qualified for contract use, making it suitable for commercial settings as well.\n",
       "  </p>\n",
       "  <p>\n",
       "    The SWC Chair is proudly made in Italy, known for its craftsmanship and attention to detail. With its timeless design and superior quality, this chair is sure to enhance any space it is placed in.\n",
       "  </p>\n",
       "  <h2>Product Dimensions</h2>\n",
       "  <table>\n",
       "    <tr>\n",
       "      <th>Dimension</th>\n",
       "      <th>Measurement (inches)</th>\n",
       "    </tr>\n",
       "    <tr>\n",
       "      <td>Width</td>\n",
       "      <td>20.87\"</td>\n",
       "    </tr>\n",
       "    <tr>\n",
       "      <td>Depth</td>\n",
       "      <td>20.08\"</td>\n",
       "    </tr>\n",
       "    <tr>\n",
       "      <td>Height</td>\n",
       "      <td>31.50\"</td>\n",
       "    </tr>\n",
       "    <tr>\n",
       "      <td>Seat Height</td>\n",
       "      <td>17.32\"</td>\n",
       "    </tr>\n",
       "    <tr>\n",
       "      <td>Seat Depth</td>\n",
       "      <td>16.14\"</td>\n",
       "    </tr>\n",
       "  </table>\n",
       "</div>\n",
       "\n",
       "Product IDs: SWC-100, SWC-110"
      ],
      "text/plain": [
       "<IPython.core.display.HTML object>"
      ]
     },
     "metadata": {},
     "output_type": "display_data"
    }
   ],
   "source": [
    "display(HTML(response))"
   ]
  },
  {
   "cell_type": "markdown",
   "metadata": {
    "id": "ukXcw3I7G8xT"
   },
   "source": [
    "## Try experimenting on your own!"
   ]
  },
  {
   "cell_type": "code",
   "execution_count": 28,
   "metadata": {
    "id": "0t88AoQNGx0H",
    "scrolled": true
   },
   "outputs": [
    {
     "name": "stdout",
     "output_type": "stream",
     "text": [
      "<div>\n",
      "  <h2>Calories Burned</h2>\n",
      "  <table>\n",
      "    <tr>\n",
      "      <th>Distance (miles)</th>\n",
      "      <th>Calories Burned</th>\n",
      "      <th>Time (minutes)</th>\n",
      "    </tr>\n",
      "    <tr>\n",
      "      <td>0.5</td>\n",
      "      <td>57</td>\n",
      "      <td>9</td>\n",
      "    </tr>\n",
      "    <tr>\n",
      "      <td>1.0</td>\n",
      "      <td>114</td>\n",
      "      <td>18</td>\n",
      "    </tr>\n",
      "    <tr>\n",
      "      <td>1.5</td>\n",
      "      <td>171</td>\n",
      "      <td>27</td>\n",
      "    </tr>\n",
      "    <tr>\n",
      "      <td>2.0</td>\n",
      "      <td>228</td>\n",
      "      <td>36</td>\n",
      "    </tr>\n",
      "    <tr>\n",
      "      <td>2.5</td>\n",
      "      <td>285</td>\n",
      "      <td>45</td>\n",
      "    </tr>\n",
      "    <tr>\n",
      "      <td>3.0</td>\n",
      "      <td>342</td>\n",
      "      <td>54</td>\n",
      "    </tr>\n",
      "    <tr>\n",
      "      <td>3.5</td>\n",
      "      <td>399</td>\n",
      "      <td>63</td>\n",
      "    </tr>\n",
      "    <tr>\n",
      "      <td>4.0</td>\n",
      "      <td>456</td>\n",
      "      <td>72</td>\n",
      "    </tr>\n",
      "    <tr>\n",
      "      <td>4.5</td>\n",
      "      <td>513</td>\n",
      "      <td>81</td>\n",
      "    </tr>\n",
      "    <tr>\n",
      "      <td>5.0</td>\n",
      "      <td>570</td>\n",
      "      <td>90</td>\n",
      "    </tr>\n",
      "    <tr>\n",
      "      <td>5.5</td>\n",
      "      <td>627</td>\n",
      "      <td>99</td>\n",
      "    </tr>\n",
      "    <tr>\n",
      "      <td>6.0</td>\n",
      "      <td>684</td>\n",
      "      <td>108</td>\n",
      "    </tr>\n",
      "    <tr>\n",
      "      <td>6.5</td>\n",
      "      <td>741</td>\n",
      "      <td>117</td>\n",
      "    </tr>\n",
      "    <tr>\n",
      "      <td>7.0</td>\n",
      "      <td>798</td>\n",
      "      <td>126</td>\n",
      "    </tr>\n",
      "    <tr>\n",
      "      <td>7.5</td>\n",
      "      <td>855</td>\n",
      "      <td>135</td>\n",
      "    </tr>\n",
      "    <tr>\n",
      "      <td>8.0</td>\n",
      "      <td>912</td>\n",
      "      <td>144</td>\n",
      "    </tr>\n",
      "    <tr>\n",
      "      <td>8.5</td>\n",
      "      <td>969</td>\n",
      "      <td>153</td>\n",
      "    </tr>\n",
      "    <tr>\n",
      "      <td>9.0</td>\n",
      "      <td>1026</td>\n",
      "      <td>162</td>\n",
      "    </tr>\n",
      "    <tr>\n",
      "      <td>9.5</td>\n",
      "      <td>1083</td>\n",
      "      <td>171</td>\n",
      "    </tr>\n",
      "    <tr>\n",
      "      <td>10.0</td>\n",
      "      <td>1140</td>\n",
      "      <td>180</td>\n",
      "    </tr>\n",
      "  </table>\n",
      "</div>\n"
     ]
    }
   ],
   "source": [
    "prompt = f\"\"\"\n",
    "Your task is to provide a table that shows the number\n",
    "of calories a 170 pound man would burn when walking a selection\n",
    "of distances.\n",
    "\n",
    "The table should have three columns. \n",
    "In the first column show \n",
    "a series of distances, starting with .5 miles and increasing \n",
    "by .5 mile intervals up to 10 miles.\n",
    "\n",
    "In the second column, show the number of calories a 170 pound\n",
    "man would burn by walking each of those distances.\n",
    "\n",
    "In the third column, show the number of minutes it would take for\n",
    "the man to walk each distance at an 18 minutes per mile pace.\n",
    "\n",
    "Give the table the title \"Calories Burned\".\n",
    "\n",
    "Format everything as HTML that can be used in a website. \n",
    "Place the description in a <div> element.\n",
    "\"\"\"\n",
    "\n",
    "response = get_completion(prompt)\n",
    "print(response)"
   ]
  },
  {
   "cell_type": "code",
   "execution_count": 29,
   "metadata": {
    "id": "Dl4E2C38G6yj"
   },
   "outputs": [
    {
     "data": {
      "text/html": [
       "<div>\n",
       "  <h2>Calories Burned</h2>\n",
       "  <table>\n",
       "    <tr>\n",
       "      <th>Distance (miles)</th>\n",
       "      <th>Calories Burned</th>\n",
       "      <th>Time (minutes)</th>\n",
       "    </tr>\n",
       "    <tr>\n",
       "      <td>0.5</td>\n",
       "      <td>57</td>\n",
       "      <td>9</td>\n",
       "    </tr>\n",
       "    <tr>\n",
       "      <td>1.0</td>\n",
       "      <td>114</td>\n",
       "      <td>18</td>\n",
       "    </tr>\n",
       "    <tr>\n",
       "      <td>1.5</td>\n",
       "      <td>171</td>\n",
       "      <td>27</td>\n",
       "    </tr>\n",
       "    <tr>\n",
       "      <td>2.0</td>\n",
       "      <td>228</td>\n",
       "      <td>36</td>\n",
       "    </tr>\n",
       "    <tr>\n",
       "      <td>2.5</td>\n",
       "      <td>285</td>\n",
       "      <td>45</td>\n",
       "    </tr>\n",
       "    <tr>\n",
       "      <td>3.0</td>\n",
       "      <td>342</td>\n",
       "      <td>54</td>\n",
       "    </tr>\n",
       "    <tr>\n",
       "      <td>3.5</td>\n",
       "      <td>399</td>\n",
       "      <td>63</td>\n",
       "    </tr>\n",
       "    <tr>\n",
       "      <td>4.0</td>\n",
       "      <td>456</td>\n",
       "      <td>72</td>\n",
       "    </tr>\n",
       "    <tr>\n",
       "      <td>4.5</td>\n",
       "      <td>513</td>\n",
       "      <td>81</td>\n",
       "    </tr>\n",
       "    <tr>\n",
       "      <td>5.0</td>\n",
       "      <td>570</td>\n",
       "      <td>90</td>\n",
       "    </tr>\n",
       "    <tr>\n",
       "      <td>5.5</td>\n",
       "      <td>627</td>\n",
       "      <td>99</td>\n",
       "    </tr>\n",
       "    <tr>\n",
       "      <td>6.0</td>\n",
       "      <td>684</td>\n",
       "      <td>108</td>\n",
       "    </tr>\n",
       "    <tr>\n",
       "      <td>6.5</td>\n",
       "      <td>741</td>\n",
       "      <td>117</td>\n",
       "    </tr>\n",
       "    <tr>\n",
       "      <td>7.0</td>\n",
       "      <td>798</td>\n",
       "      <td>126</td>\n",
       "    </tr>\n",
       "    <tr>\n",
       "      <td>7.5</td>\n",
       "      <td>855</td>\n",
       "      <td>135</td>\n",
       "    </tr>\n",
       "    <tr>\n",
       "      <td>8.0</td>\n",
       "      <td>912</td>\n",
       "      <td>144</td>\n",
       "    </tr>\n",
       "    <tr>\n",
       "      <td>8.5</td>\n",
       "      <td>969</td>\n",
       "      <td>153</td>\n",
       "    </tr>\n",
       "    <tr>\n",
       "      <td>9.0</td>\n",
       "      <td>1026</td>\n",
       "      <td>162</td>\n",
       "    </tr>\n",
       "    <tr>\n",
       "      <td>9.5</td>\n",
       "      <td>1083</td>\n",
       "      <td>171</td>\n",
       "    </tr>\n",
       "    <tr>\n",
       "      <td>10.0</td>\n",
       "      <td>1140</td>\n",
       "      <td>180</td>\n",
       "    </tr>\n",
       "  </table>\n",
       "</div>"
      ],
      "text/plain": [
       "<IPython.core.display.HTML object>"
      ]
     },
     "metadata": {},
     "output_type": "display_data"
    }
   ],
   "source": [
    "display(HTML(response))"
   ]
  },
  {
   "cell_type": "code",
   "execution_count": null,
   "metadata": {},
   "outputs": [],
   "source": []
  }
 ],
 "metadata": {
  "colab": {
   "authorship_tag": "ABX9TyOQ2grJrTuuAVKosFYIQS8B",
   "provenance": []
  },
  "kernelspec": {
   "display_name": "Python 3 (ipykernel)",
   "language": "python",
   "name": "python3"
  },
  "language_info": {
   "codemirror_mode": {
    "name": "ipython",
    "version": 3
   },
   "file_extension": ".py",
   "mimetype": "text/x-python",
   "name": "python",
   "nbconvert_exporter": "python",
   "pygments_lexer": "ipython3",
   "version": "3.10.9"
  }
 },
 "nbformat": 4,
 "nbformat_minor": 1
}
